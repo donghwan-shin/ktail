{
 "cells": [
  {
   "cell_type": "markdown",
   "source": [
    "Let's do a model inference using the actual trace generated from a real-world software system (Week 4).\n",
    "In this exercise, we will use `covasim` and focus on the function calls without their line numbers."
   ],
   "metadata": {
    "collapsed": false
   },
   "id": "b8d963aac9b4c65e"
  },
  {
   "cell_type": "code",
   "outputs": [],
   "source": [
    "trace_file = 'data/lineTrace.csv'\n",
    "trace = []\n",
    "with open(trace_file, 'r') as f:\n",
    "    for line in f:\n",
    "        event = line.strip().split(':')[0]\n",
    "        if '__' not in event:  # ignore internal functions\n",
    "            trace.append(event)"
   ],
   "metadata": {
    "collapsed": false
   },
   "id": "75875e042fd64865",
   "execution_count": null
  },
  {
   "cell_type": "markdown",
   "source": [
    "We can see that `trace` contains a sequence of events (without line numbers)."
   ],
   "metadata": {
    "collapsed": false
   },
   "id": "aa817ae94f3afa9d"
  },
  {
   "cell_type": "code",
   "outputs": [],
   "source": [
    "short_trace = trace[:100]\n",
    "short_trace"
   ],
   "metadata": {
    "collapsed": false
   },
   "id": "91668c73e1f893d9",
   "execution_count": null
  },
  {
   "cell_type": "markdown",
   "source": [
    "The set of unique events in the trace becomes the alphabet of the model."
   ],
   "metadata": {
    "collapsed": false
   },
   "id": "9a6710a53a02bfcf"
  },
  {
   "cell_type": "code",
   "outputs": [],
   "source": [
    "alphabet = set(short_trace)\n",
    "print(f'length of the trace: {len(short_trace)}, size of the alphabet: {len(alphabet)}')"
   ],
   "metadata": {
    "collapsed": false
   },
   "id": "df27ae424bf176ee",
   "execution_count": null
  },
  {
   "cell_type": "markdown",
   "source": [
    "From the above, we can see that the size of the alphabet is significantly lower than the length of the trace.\n",
    "This means the trace contains a lot of redundant events, and therefore, the inferred model could be much more compact than the trace.\n",
    "\n",
    "Since the input of `ktail` in `ktail.py` is words (list of traces separated by a `sep`), we need to convert the trace into a list of words."
   ],
   "metadata": {
    "collapsed": false
   },
   "id": "6063bf946a0cb5ad"
  },
  {
   "cell_type": "code",
   "outputs": [],
   "source": [
    "seperator = ' '\n",
    "word = seperator.join(short_trace)\n",
    "words = [word]"
   ],
   "metadata": {
    "collapsed": false
   },
   "id": "1a6e188da20b52f0",
   "execution_count": null
  },
  {
   "cell_type": "code",
   "outputs": [],
   "source": [
    "from ktail import ktail\n",
    "k = 1\n",
    "model = ktail(words, k, sep=seperator)"
   ],
   "metadata": {
    "collapsed": false
   },
   "id": "2005c535f89cbfef",
   "execution_count": null
  },
  {
   "cell_type": "code",
   "outputs": [],
   "source": [
    "from datetime import datetime\n",
    "timestamp = datetime.now().strftime(\"%Y%m%d_%H%M%S\")\n",
    "model.draw(f'{k}-tail-result-{timestamp}')"
   ],
   "metadata": {
    "collapsed": false
   },
   "id": "a656f4ee2ec42ed4",
   "execution_count": null
  },
  {
   "cell_type": "markdown",
   "source": [
    "Can you interpret the model? If not, you may want to do the followings:\n",
    "- Try different `k` values\n",
    "- Try to filter out unnecessary events from the trace"
   ],
   "metadata": {
    "collapsed": false
   },
   "id": "629c3a27769d67c5"
  }
 ],
 "metadata": {
  "kernelspec": {
   "display_name": "Python 3",
   "language": "python",
   "name": "python3"
  },
  "language_info": {
   "codemirror_mode": {
    "name": "ipython",
    "version": 2
   },
   "file_extension": ".py",
   "mimetype": "text/x-python",
   "name": "python",
   "nbconvert_exporter": "python",
   "pygments_lexer": "ipython2",
   "version": "2.7.6"
  }
 },
 "nbformat": 4,
 "nbformat_minor": 5
}
